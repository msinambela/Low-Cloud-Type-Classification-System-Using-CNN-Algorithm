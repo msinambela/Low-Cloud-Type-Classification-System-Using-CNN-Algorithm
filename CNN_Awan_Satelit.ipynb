{
  "cells": [
    {
      "cell_type": "code",
      "execution_count": null,
      "metadata": {
        "colab": {
          "base_uri": "https://localhost:8080/"
        },
        "id": "huYJaz766v3Y",
        "outputId": "e419c1af-1236-4d9f-f50b-2fb4313ee22f"
      },
      "outputs": [
        {
          "output_type": "stream",
          "name": "stdout",
          "text": [
            "Drive already mounted at /content/drive; to attempt to forcibly remount, call drive.mount(\"/content/drive\", force_remount=True).\n"
          ]
        }
      ],
      "source": [
        "from google.colab import drive\n",
        "drive.mount('/content/drive')"
      ]
    },
    {
      "cell_type": "code",
      "execution_count": null,
      "metadata": {
        "id": "Rl1r6DVqYG1T"
      },
      "outputs": [],
      "source": [
        "#run\n",
        "import os\n",
        "import numpy as np\n",
        "import pandas as pd\n",
        "import seaborn as sn\n",
        "from google.colab import files\n",
        "from keras.preprocessing import image\n",
        "import matplotlib.pyplot as plt\n",
        "import matplotlib.image as mpimg\n",
        "from keras.models import load_model\n",
        "from sklearn.metrics import confusion_matrix, classification_report\n",
        "import random\n",
        "from shutil import copyfile\n",
        "import tensorflow as tf\n",
        "from tensorflow.keras.optimizers import Adam\n",
        "from tensorflow.keras.preprocessing.image import ImageDataGenerator\n",
        "from tensorflow.keras.layers import Conv2D, MaxPooling2D, Flatten, Dense, Dropout, AveragePooling2D\n",
        "from tensorflow.keras.models import Sequential\n",
        "from tensorflow.keras.callbacks import EarlyStopping, ModelCheckpoint\n",
        "import itertools\n",
        "import math\n",
        "import datetime\n",
        "import time\n"
      ]
    },
    {
      "cell_type": "code",
      "execution_count": null,
      "metadata": {
        "colab": {
          "base_uri": "https://localhost:8080/"
        },
        "id": "qpXcyJTo_cQy",
        "outputId": "9ed00b6c-10df-49dd-e4d6-fbedb4a85084"
      },
      "outputs": [
        {
          "output_type": "stream",
          "name": "stdout",
          "text": [
            "['cb', 'non_cb']\n",
            "0\n"
          ]
        }
      ],
      "source": [
        "import warnings\n",
        "import os\n",
        "\n",
        "data = '/content/drive/MyDrive/Project/Disertasi2023/satelit/basedir'\n",
        "warnings.filterwarnings('ignore')\n",
        "# Get all the paths\n",
        "data_dir_list = os.listdir(data)\n",
        "print(data_dir_list)\n",
        "path, dirs, files = next(os.walk(data))\n",
        "file_count = len(files)\n",
        "print(file_count)"
      ]
    },
    {
      "cell_type": "code",
      "execution_count": null,
      "metadata": {
        "id": "8YLVmRSE7R3Q"
      },
      "outputs": [],
      "source": [
        "# Make new base directory\n",
        "base_dir = '/content/drive/MyDrive/Project/Disertasi2023/satelit/data_split'\n",
        "#os.mkdir(base_dir)"
      ]
    },
    {
      "cell_type": "code",
      "execution_count": null,
      "metadata": {
        "id": "mc9aKMhSXKuM"
      },
      "outputs": [],
      "source": [
        "#create two folders (train and validation)\n",
        "train_dir = os.path.join(base_dir, 'train')\n",
        "#os.mkdir(train_dir)\n",
        "\n",
        "validation_dir = os.path.join(base_dir, 'validation')\n",
        "#os.mkdir(validation_dir)\n"
      ]
    },
    {
      "cell_type": "code",
      "execution_count": null,
      "metadata": {
        "id": "VQtQ9XIoXObB"
      },
      "outputs": [],
      "source": [
        "#Under train folder create five folders\n",
        "\n",
        "\n",
        "train_cb_dir = os.path.join(train_dir, 'cumulonimbus')\n",
        "#os.mkdir(train_cb_dir)\n",
        "\n",
        "train_noncb_dir = os.path.join(train_dir, 'non_cumulonimbus')\n",
        "#os.mkdir(train_noncb_dir)\n",
        "\n",
        "validation_cb_dir = os.path.join(validation_dir, 'cumulonimbus')\n",
        "#os.mkdir(validation_cb_dir)\n",
        "\n",
        "validation_noncb_dir = os.path.join(validation_dir, 'non_cumulonimbus')\n",
        "#os.mkdir(validation_noncb_dir)"
      ]
    },
    {
      "cell_type": "code",
      "execution_count": null,
      "metadata": {
        "id": "3iXP47hPX2t-"
      },
      "outputs": [],
      "source": [
        "#run\n",
        "def split_data(SOURCE, TRAINING, VALIDATION, SPLIT_SIZE):\n",
        "    files = []\n",
        "    for filename in os.listdir(SOURCE):\n",
        "        file = SOURCE + filename\n",
        "        if os.path.getsize(file) > 0:\n",
        "            files.append(filename)\n",
        "        else:\n",
        "            print(filename + \" is zero length, so ignoring.\")\n",
        "\n",
        "    training_length = int(len(files) * SPLIT_SIZE)\n",
        "    valid_length = int(len(files) - training_length)\n",
        "    shuffled_set = random.sample(files, len(files))\n",
        "    training_set = shuffled_set[0:training_length]\n",
        "    valid_set = shuffled_set[training_length:]\n",
        "\n",
        "    for filename in training_set:\n",
        "        this_file = SOURCE + filename\n",
        "        destination = TRAINING + filename\n",
        "        copyfile(this_file, destination)\n",
        "\n",
        "    for filename in valid_set:\n",
        "        this_file = SOURCE + filename\n",
        "        destination = VALIDATION + filename\n",
        "        copyfile(this_file, destination)"
      ]
    },
    {
      "cell_type": "code",
      "execution_count": null,
      "metadata": {
        "id": "WhG9ygQ6YKfV"
      },
      "outputs": [],
      "source": [
        "CB_SOURCE_DIR = '/content/drive/MyDrive/Project/Disertasi2023/satelit/basedir/cb/'\n",
        "TRAINING_CB_DIR = '/content/drive/MyDrive/Project/Disertasi2023/satelit/data_split/train/cumulonimbus/'\n",
        "VALID_CB_DIR = '/content/drive/MyDrive/Project/Disertasi2023/satelit/data_split/validation/cumulonimbus/'\n",
        "\n",
        "NONCB_SOURCE_DIR = '/content/drive/MyDrive/Project/Disertasi2023/satelit/basedir/non_cb/'\n",
        "TRAINING_NONCB_DIR = '/content/drive/MyDrive/Project/Disertasi2023/satelit/data_split/train/non_cumulonimbus/'\n",
        "VALID_NONCB_DIR = '/content/drive/MyDrive/Project/Disertasi2023/satelit/data_split/validation/non_cumulonimbus/'"
      ]
    },
    {
      "cell_type": "code",
      "execution_count": null,
      "metadata": {
        "id": "KTZzN0SpY116"
      },
      "outputs": [],
      "source": [
        "'''split_size = .80\n",
        "\n",
        "split_data(CB_SOURCE_DIR, TRAINING_CB_DIR, VALID_CB_DIR, split_size)\n",
        "split_data(NONCB_SOURCE_DIR, TRAINING_NONCB_DIR, VALID_NONCB_DIR, split_size)\n",
        "'''"
      ]
    },
    {
      "cell_type": "code",
      "execution_count": null,
      "metadata": {
        "colab": {
          "base_uri": "https://localhost:8080/",
          "height": 391
        },
        "id": "xCuW-As0ZDyI",
        "outputId": "6f6d57c5-3554-4708-f116-80e19c061faa"
      },
      "outputs": [
        {
          "output_type": "display_data",
          "data": {
            "text/plain": [
              "<Figure size 648x432 with 1 Axes>"
            ],
            "image/png": "[encoded data removed]"
          },
          "metadata": {
            "needs_background": "light"
          }
        }
      ],
      "source": [
        "#run\n",
        "import matplotlib.pyplot as plt\n",
        "import seaborn as sns\n",
        "from matplotlib.image import imread\n",
        "import pathlib\n",
        "\n",
        "image_folder = ['cumulonimbus', 'non_cumulonimbus']\n",
        "nimgs = {}\n",
        "for i in image_folder:\n",
        "    nimages = len(os.listdir('/content/drive/MyDrive/Project/Disertasi2023/satelit/data_split/train/'+i+'/'))\n",
        "    nimgs[i]=nimages\n",
        "plt.figure(figsize=(9, 6))\n",
        "plt.bar(range(len(nimgs)), list(nimgs.values()), align='center')\n",
        "plt.xticks(range(len(nimgs)), list(nimgs.keys()))\n",
        "plt.title('Distribution of different classes in Training Dataset')\n",
        "plt.show()"
      ]
    },
    {
      "cell_type": "code",
      "execution_count": null,
      "metadata": {
        "colab": {
          "base_uri": "https://localhost:8080/"
        },
        "id": "o9TpVgUOZLNi",
        "outputId": "ce5a5d0d-ea65-4a26-a966-5bbe7b3f8fd8"
      },
      "outputs": [
        {
          "output_type": "stream",
          "name": "stdout",
          "text": [
            "Training cumulonimbus images are: 16\n",
            "Training non_cumulonimbus images are: 16\n"
          ]
        }
      ],
      "source": [
        "for i in ['cumulonimbus', 'non_cumulonimbus']:\n",
        "    print('Training {} images are: '.format(i)+str(len(os.listdir('/content/drive/MyDrive/Project/Disertasi2023/satelit/data_split/train/'+i+'/'))))"
      ]
    },
    {
      "cell_type": "code",
      "execution_count": null,
      "metadata": {
        "colab": {
          "base_uri": "https://localhost:8080/",
          "height": 391
        },
        "id": "i2_36KmyZd_H",
        "outputId": "40101aff-0235-4c77-dd75-64775e7ea15f"
      },
      "outputs": [
        {
          "output_type": "display_data",
          "data": {
            "text/plain": [
              "<Figure size 648x432 with 1 Axes>"
            ],
            "image/png": "[encoded data removed]"
          },
          "metadata": {
            "needs_background": "light"
          }
        }
      ],
      "source": [
        "image_folder = ['cumulonimbus', 'non_cumulonimbus']\n",
        "nimgs = {}\n",
        "for i in image_folder:\n",
        "    nimages = len(os.listdir('/content/drive/MyDrive/Project/Disertasi2023/satelit/data_split/validation/'+i+'/'))\n",
        "    nimgs[i]=nimages\n",
        "plt.figure(figsize=(9, 6))\n",
        "plt.bar(range(len(nimgs)), list(nimgs.values()), align='center')\n",
        "plt.xticks(range(len(nimgs)), list(nimgs.keys()))\n",
        "plt.title('Distribution of different classes in Validation Dataset')\n",
        "plt.show()"
      ]
    },
    {
      "cell_type": "code",
      "execution_count": null,
      "metadata": {
        "colab": {
          "base_uri": "https://localhost:8080/"
        },
        "id": "fACBXyiZZ1bp",
        "outputId": "ae07ce5a-488d-4f2b-c21f-271bc01738c8"
      },
      "outputs": [
        {
          "output_type": "stream",
          "name": "stdout",
          "text": [
            "Validation cumulonimbus images are: 5\n",
            "Validation non_cumulonimbus images are: 5\n"
          ]
        }
      ],
      "source": [
        "for i in ['cumulonimbus', 'non_cumulonimbus']:\n",
        "    print('Validation {} images are: '.format(i)+str(len(os.listdir('/content/drive/MyDrive/Project/Disertasi2023/satelit/data_split/validation/'+i+'/'))))"
      ]
    },
    {
      "cell_type": "code",
      "execution_count": null,
      "metadata": {
        "colab": {
          "base_uri": "https://localhost:8080/"
        },
        "id": "kSQLjqcMZ8Bc",
        "outputId": "ee3fd0e3-ce1f-4f30-e4c7-dfab3433d4dd"
      },
      "outputs": [
        {
          "output_type": "stream",
          "name": "stdout",
          "text": [
            "Found 32 images belonging to 2 classes.\n",
            "Found 10 images belonging to 2 classes.\n"
          ]
        }
      ],
      "source": [
        "#run\n",
        "img_width=150; img_height=150\n",
        "\n",
        "\n",
        "batch_size=32\n",
        "\n",
        "TRAINING_DIR = '/content/drive/MyDrive/Project/Disertasi2023/satelit/data_split/train/'\n",
        "\n",
        "train_datagen = ImageDataGenerator(rescale= 1/255.0,\n",
        "                                   rotation_range= 30,\n",
        "                                   zoom_range= 0.2,\n",
        "                                   shear_range= 0.2,\n",
        "                                   fill_mode= 'nearest',\n",
        "                                   horizontal_flip= True\n",
        "                                   )\n",
        "\n",
        "train_generator = train_datagen.flow_from_directory(TRAINING_DIR,\n",
        "                                                    batch_size=batch_size,\n",
        "                                                    class_mode='categorical',\n",
        "                                                    target_size=(img_height, img_width))\n",
        "\n",
        "VALIDATION_DIR = '/content/drive/MyDrive/Project/Disertasi2023/satelit/data_split/validation/'\n",
        "\n",
        "validation_datagen = ImageDataGenerator(rescale= 1/255.0\n",
        "                                        )\n",
        "\n",
        "validation_generator = validation_datagen.flow_from_directory(VALIDATION_DIR,\n",
        "                                                              batch_size=batch_size,\n",
        "                                                              class_mode='categorical',\n",
        "                                                              target_size=(img_height, img_width)\n",
        "                                                             )\n",
        "\n",
        "#Number of items from the data to takes the training model. If you use the batch size of one you update weights after every sample. If you use batch size 32, you calculate the average error and then update weights every 32 items."
      ]
    },
    {
      "cell_type": "code",
      "execution_count": null,
      "metadata": {
        "id": "_EPacPE9QiPw"
      },
      "outputs": [],
      "source": [
        "#callbacks = EarlyStopping(monitor='val_loss', patience=5, verbose=1, mode='auto')\n",
        "# autosave best Model\n",
        "best_model_file = '/content/drive/MyDrive/Project/Disertasi2023/satelit/best_model.h5'\n",
        "metric = 'val_accuracy'\n",
        "best_model = ModelCheckpoint(best_model_file, monitor='val_accuracy', verbose = 1, save_best_only = True)"
      ]
    },
    {
      "cell_type": "code",
      "execution_count": null,
      "metadata": {
        "colab": {
          "base_uri": "https://localhost:8080/"
        },
        "id": "mTBEs-eARIUS",
        "outputId": "a1116707-9f15-49fe-afac-960cba6ef20c"
      },
      "outputs": [
        {
          "output_type": "stream",
          "name": "stdout",
          "text": [
            "Model: \"sequential\"\n",
            "_________________________________________________________________\n",
            " Layer (type)                Output Shape              Param #   \n",
            "=================================================================\n",
            " conv2d (Conv2D)             (None, 150, 150, 64)      1792      \n",
            "                                                                 \n",
            " max_pooling2d (MaxPooling2D  (None, 75, 75, 64)       0         \n",
            " )                                                               \n",
            "                                                                 \n",
            " conv2d_1 (Conv2D)           (None, 73, 73, 32)        18464     \n",
            "                                                                 \n",
            " max_pooling2d_1 (MaxPooling  (None, 37, 37, 32)       0         \n",
            " 2D)                                                             \n",
            "                                                                 \n",
            " flatten (Flatten)           (None, 43808)             0         \n",
            "                                                                 \n",
            " dense (Dense)               (None, 128)               5607552   \n",
            "                                                                 \n",
            " dense_1 (Dense)             (None, 1)                 129       \n",
            "                                                                 \n",
            "=================================================================\n",
            "Total params: 5,627,937\n",
            "Trainable params: 5,627,937\n",
            "Non-trainable params: 0\n",
            "_________________________________________________________________\n"
          ]
        }
      ],
      "source": [
        "input_shape=(img_height, img_width, 3)\n",
        "model = Sequential([\n",
        "    Conv2D(64, (3, 3), activation='relu', input_shape = input_shape, padding = \"same\"),\n",
        "    MaxPooling2D((2, 2), padding='same'),\n",
        "    Conv2D(32, (3, 3), activation='relu'),\n",
        "    MaxPooling2D((2, 2), padding='same'),\n",
        "\n",
        "\n",
        "    Flatten(),\n",
        "    Dense(128, activation='relu'),\n",
        "    Dense(1, activation='sigmoid')\n",
        "])\n",
        "\n",
        "model.summary()"
      ]
    },
    {
      "cell_type": "code",
      "execution_count": null,
      "metadata": {
        "id": "mE4K3VdZRQCr"
      },
      "outputs": [],
      "source": [
        "model.compile(optimizer='Adam',\n",
        "              loss='binary_crossentropy',\n",
        "              metrics =['accuracy'])"
      ]
    },
    {
      "cell_type": "code",
      "execution_count": null,
      "metadata": {
        "colab": {
          "base_uri": "https://localhost:8080/"
        },
        "id": "-acBrCR2RRUH",
        "outputId": "900d8d70-610f-4fc8-a164-55a3256eb1cb"
      },
      "outputs": [
        {
          "output_type": "stream",
          "name": "stdout",
          "text": [
            "Epoch 1/100\n",
            "1/1 [==============================] - ETA: 0s - loss: 0.7040 - accuracy: 0.5000\n",
            "Epoch 1: val_accuracy improved from -inf to 0.50000, saving model to /content/drive/MyDrive/Project/Disertasi2023/satelit/best_model.h5\n",
            "1/1 [==============================] - 16s 16s/step - loss: 0.7040 - accuracy: 0.5000 - val_loss: 7.4859 - val_accuracy: 0.5000\n",
            "Epoch 2/100\n",
            "1/1 [==============================] - ETA: 0s - loss: 7.3112 - accuracy: 0.5000\n",
            "Epoch 2: val_accuracy did not improve from 0.50000\n",
            "1/1 [==============================] - 12s 12s/step - loss: 7.3112 - accuracy: 0.5000 - val_loss: 1.7747 - val_accuracy: 0.5000\n",
            "Epoch 3/100\n",
            "1/1 [==============================] - ETA: 0s - loss: 1.7201 - accuracy: 0.5000\n",
            "Epoch 3: val_accuracy did not improve from 0.50000\n",
            "1/1 [==============================] - 14s 14s/step - loss: 1.7201 - accuracy: 0.5000 - val_loss: 0.6988 - val_accuracy: 0.5000\n",
            "Epoch 4/100\n",
            "1/1 [==============================] - ETA: 0s - loss: 0.6986 - accuracy: 0.5000\n",
            "Epoch 4: val_accuracy did not improve from 0.50000\n",
            "1/1 [==============================] - 12s 12s/step - loss: 0.6986 - accuracy: 0.5000 - val_loss: 0.6962 - val_accuracy: 0.5000\n",
            "Epoch 5/100\n",
            "1/1 [==============================] - ETA: 0s - loss: 0.6960 - accuracy: 0.5000\n",
            "Epoch 5: val_accuracy did not improve from 0.50000\n",
            "1/1 [==============================] - 12s 12s/step - loss: 0.6960 - accuracy: 0.5000 - val_loss: 0.6931 - val_accuracy: 0.5000\n",
            "Epoch 6/100\n",
            "1/1 [==============================] - ETA: 0s - loss: 0.6932 - accuracy: 0.5000\n",
            "Epoch 6: val_accuracy did not improve from 0.50000\n",
            "1/1 [==============================] - 13s 13s/step - loss: 0.6932 - accuracy: 0.5000 - val_loss: 0.6932 - val_accuracy: 0.5000\n",
            "Epoch 7/100\n",
            "1/1 [==============================] - ETA: 0s - loss: 0.6932 - accuracy: 0.5000\n",
            "Epoch 7: val_accuracy did not improve from 0.50000\n",
            "1/1 [==============================] - 12s 12s/step - loss: 0.6932 - accuracy: 0.5000 - val_loss: 0.6932 - val_accuracy: 0.5000\n",
            "Epoch 8/100\n",
            "1/1 [==============================] - ETA: 0s - loss: 0.6933 - accuracy: 0.5000\n",
            "Epoch 8: val_accuracy did not improve from 0.50000\n",
            "1/1 [==============================] - 17s 17s/step - loss: 0.6933 - accuracy: 0.5000 - val_loss: 0.6931 - val_accuracy: 0.5000\n",
            "Epoch 9/100\n",
            "1/1 [==============================] - ETA: 0s - loss: 0.6932 - accuracy: 0.5000\n",
            "Epoch 9: val_accuracy did not improve from 0.50000\n",
            "1/1 [==============================] - 13s 13s/step - loss: 0.6932 - accuracy: 0.5000 - val_loss: 0.6932 - val_accuracy: 0.5000\n",
            "Epoch 10/100\n",
            "1/1 [==============================] - ETA: 0s - loss: 0.6932 - accuracy: 0.5000\n",
            "Epoch 10: val_accuracy did not improve from 0.50000\n",
            "1/1 [==============================] - 12s 12s/step - loss: 0.6932 - accuracy: 0.5000 - val_loss: 0.6931 - val_accuracy: 0.5000\n",
            "Epoch 11/100\n",
            "1/1 [==============================] - ETA: 0s - loss: 0.6931 - accuracy: 0.5000\n",
            "Epoch 11: val_accuracy did not improve from 0.50000\n",
            "1/1 [==============================] - 12s 12s/step - loss: 0.6931 - accuracy: 0.5000 - val_loss: 0.6932 - val_accuracy: 0.5000\n",
            "Epoch 12/100\n",
            "1/1 [==============================] - ETA: 0s - loss: 0.6932 - accuracy: 0.5000\n",
            "Epoch 12: val_accuracy did not improve from 0.50000\n",
            "1/1 [==============================] - 12s 12s/step - loss: 0.6932 - accuracy: 0.5000 - val_loss: 0.6931 - val_accuracy: 0.5000\n",
            "Epoch 13/100\n",
            "1/1 [==============================] - ETA: 0s - loss: 0.6931 - accuracy: 0.5000\n",
            "Epoch 13: val_accuracy did not improve from 0.50000\n",
            "1/1 [==============================] - 13s 13s/step - loss: 0.6931 - accuracy: 0.5000 - val_loss: 0.6931 - val_accuracy: 0.5000\n",
            "Epoch 14/100\n",
            "1/1 [==============================] - ETA: 0s - loss: 0.6931 - accuracy: 0.5000\n",
            "Epoch 14: val_accuracy did not improve from 0.50000\n",
            "1/1 [==============================] - 13s 13s/step - loss: 0.6931 - accuracy: 0.5000 - val_loss: 0.6932 - val_accuracy: 0.5000\n",
            "Epoch 15/100\n",
            "1/1 [==============================] - ETA: 0s - loss: 0.6932 - accuracy: 0.5000\n",
            "Epoch 15: val_accuracy did not improve from 0.50000\n",
            "1/1 [==============================] - 12s 12s/step - loss: 0.6932 - accuracy: 0.5000 - val_loss: 0.6932 - val_accuracy: 0.5000\n",
            "Epoch 16/100\n",
            "1/1 [==============================] - ETA: 0s - loss: 0.6932 - accuracy: 0.5000\n",
            "Epoch 16: val_accuracy did not improve from 0.50000\n",
            "1/1 [==============================] - 13s 13s/step - loss: 0.6932 - accuracy: 0.5000 - val_loss: 0.6932 - val_accuracy: 0.5000\n",
            "Epoch 17/100\n",
            "1/1 [==============================] - ETA: 0s - loss: 0.6932 - accuracy: 0.5000\n",
            "Epoch 17: val_accuracy did not improve from 0.50000\n",
            "1/1 [==============================] - 12s 12s/step - loss: 0.6932 - accuracy: 0.5000 - val_loss: 0.6932 - val_accuracy: 0.5000\n",
            "Epoch 18/100\n",
            "1/1 [==============================] - ETA: 0s - loss: 0.6932 - accuracy: 0.5000\n",
            "Epoch 18: val_accuracy did not improve from 0.50000\n",
            "1/1 [==============================] - 12s 12s/step - loss: 0.6932 - accuracy: 0.5000 - val_loss: 0.6932 - val_accuracy: 0.5000\n",
            "Epoch 19/100\n",
            "1/1 [==============================] - ETA: 0s - loss: 0.6932 - accuracy: 0.5000\n",
            "Epoch 19: val_accuracy did not improve from 0.50000\n",
            "1/1 [==============================] - 14s 14s/step - loss: 0.6932 - accuracy: 0.5000 - val_loss: 0.6931 - val_accuracy: 0.5000\n",
            "Epoch 20/100\n",
            "1/1 [==============================] - ETA: 0s - loss: 0.6931 - accuracy: 0.5000\n",
            "Epoch 20: val_accuracy did not improve from 0.50000\n",
            "1/1 [==============================] - 13s 13s/step - loss: 0.6931 - accuracy: 0.5000 - val_loss: 0.6931 - val_accuracy: 0.5000\n",
            "Epoch 21/100\n",
            "1/1 [==============================] - ETA: 0s - loss: 0.6932 - accuracy: 0.5000\n",
            "Epoch 21: val_accuracy did not improve from 0.50000\n",
            "1/1 [==============================] - 12s 12s/step - loss: 0.6932 - accuracy: 0.5000 - val_loss: 0.6931 - val_accuracy: 0.5000\n",
            "Epoch 22/100\n",
            "1/1 [==============================] - ETA: 0s - loss: 0.6931 - accuracy: 0.5000\n",
            "Epoch 22: val_accuracy did not improve from 0.50000\n",
            "1/1 [==============================] - 12s 12s/step - loss: 0.6931 - accuracy: 0.5000 - val_loss: 0.6932 - val_accuracy: 0.5000\n",
            "Epoch 23/100\n",
            "1/1 [==============================] - ETA: 0s - loss: 0.6932 - accuracy: 0.5000\n",
            "Epoch 23: val_accuracy did not improve from 0.50000\n",
            "1/1 [==============================] - 13s 13s/step - loss: 0.6932 - accuracy: 0.5000 - val_loss: 0.6931 - val_accuracy: 0.5000\n",
            "Epoch 24/100\n",
            "1/1 [==============================] - ETA: 0s - loss: 0.6931 - accuracy: 0.5000\n",
            "Epoch 24: val_accuracy did not improve from 0.50000\n",
            "1/1 [==============================] - 12s 12s/step - loss: 0.6931 - accuracy: 0.5000 - val_loss: 0.6931 - val_accuracy: 0.5000\n",
            "Epoch 25/100\n",
            "1/1 [==============================] - ETA: 0s - loss: 0.6931 - accuracy: 0.5000\n",
            "Epoch 25: val_accuracy did not improve from 0.50000\n",
            "1/1 [==============================] - 12s 12s/step - loss: 0.6931 - accuracy: 0.5000 - val_loss: 0.6931 - val_accuracy: 0.5000\n",
            "Epoch 26/100\n",
            "1/1 [==============================] - ETA: 0s - loss: 0.6931 - accuracy: 0.5000\n",
            "Epoch 26: val_accuracy did not improve from 0.50000\n",
            "1/1 [==============================] - 13s 13s/step - loss: 0.6931 - accuracy: 0.5000 - val_loss: 0.6931 - val_accuracy: 0.5000\n",
            "Epoch 27/100\n",
            "1/1 [==============================] - ETA: 0s - loss: 0.6931 - accuracy: 0.5000\n",
            "Epoch 27: val_accuracy did not improve from 0.50000\n",
            "1/1 [==============================] - 12s 12s/step - loss: 0.6931 - accuracy: 0.5000 - val_loss: 0.6931 - val_accuracy: 0.5000\n",
            "Epoch 28/100\n",
            "1/1 [==============================] - ETA: 0s - loss: 0.6931 - accuracy: 0.5000\n",
            "Epoch 28: val_accuracy did not improve from 0.50000\n",
            "1/1 [==============================] - 13s 13s/step - loss: 0.6931 - accuracy: 0.5000 - val_loss: 0.6931 - val_accuracy: 0.5000\n",
            "Epoch 29/100\n",
            "1/1 [==============================] - ETA: 0s - loss: 0.6931 - accuracy: 0.5000\n",
            "Epoch 29: val_accuracy did not improve from 0.50000\n",
            "1/1 [==============================] - 12s 12s/step - loss: 0.6931 - accuracy: 0.5000 - val_loss: 0.6931 - val_accuracy: 0.5000\n",
            "Epoch 30/100\n",
            "1/1 [==============================] - ETA: 0s - loss: 0.6931 - accuracy: 0.5000\n",
            "Epoch 30: val_accuracy did not improve from 0.50000\n",
            "1/1 [==============================] - 12s 12s/step - loss: 0.6931 - accuracy: 0.5000 - val_loss: 0.6931 - val_accuracy: 0.5000\n",
            "Epoch 31/100\n",
            "1/1 [==============================] - ETA: 0s - loss: 0.6931 - accuracy: 0.5000\n",
            "Epoch 31: val_accuracy did not improve from 0.50000\n",
            "1/1 [==============================] - 12s 12s/step - loss: 0.6931 - accuracy: 0.5000 - val_loss: 0.6932 - val_accuracy: 0.5000\n",
            "Epoch 32/100\n",
            "1/1 [==============================] - ETA: 0s - loss: 0.6932 - accuracy: 0.5000\n",
            "Epoch 32: val_accuracy did not improve from 0.50000\n",
            "1/1 [==============================] - 13s 13s/step - loss: 0.6932 - accuracy: 0.5000 - val_loss: 0.6931 - val_accuracy: 0.5000\n",
            "Epoch 33/100\n",
            "1/1 [==============================] - ETA: 0s - loss: 0.6931 - accuracy: 0.5000\n",
            "Epoch 33: val_accuracy did not improve from 0.50000\n",
            "1/1 [==============================] - 12s 12s/step - loss: 0.6931 - accuracy: 0.5000 - val_loss: 0.6931 - val_accuracy: 0.5000\n",
            "Epoch 34/100\n",
            "1/1 [==============================] - ETA: 0s - loss: 0.6932 - accuracy: 0.5000\n",
            "Epoch 34: val_accuracy did not improve from 0.50000\n",
            "1/1 [==============================] - 14s 14s/step - loss: 0.6932 - accuracy: 0.5000 - val_loss: 0.6931 - val_accuracy: 0.5000\n",
            "Epoch 35/100\n",
            "1/1 [==============================] - ETA: 0s - loss: 0.6931 - accuracy: 0.5000\n",
            "Epoch 35: val_accuracy did not improve from 0.50000\n",
            "1/1 [==============================] - 12s 12s/step - loss: 0.6931 - accuracy: 0.5000 - val_loss: 0.6932 - val_accuracy: 0.5000\n",
            "Epoch 36/100\n",
            "1/1 [==============================] - ETA: 0s - loss: 0.6932 - accuracy: 0.5000\n",
            "Epoch 36: val_accuracy did not improve from 0.50000\n",
            "1/1 [==============================] - 12s 12s/step - loss: 0.6932 - accuracy: 0.5000 - val_loss: 0.6931 - val_accuracy: 0.5000\n",
            "Epoch 37/100\n",
            "1/1 [==============================] - ETA: 0s - loss: 0.6931 - accuracy: 0.5000\n",
            "Epoch 37: val_accuracy did not improve from 0.50000\n",
            "1/1 [==============================] - 14s 14s/step - loss: 0.6931 - accuracy: 0.5000 - val_loss: 0.6931 - val_accuracy: 0.5000\n",
            "Epoch 38/100\n",
            "1/1 [==============================] - ETA: 0s - loss: 0.6931 - accuracy: 0.5000\n",
            "Epoch 38: val_accuracy did not improve from 0.50000\n",
            "1/1 [==============================] - 12s 12s/step - loss: 0.6931 - accuracy: 0.5000 - val_loss: 0.6931 - val_accuracy: 0.5000\n",
            "Epoch 39/100\n",
            "1/1 [==============================] - ETA: 0s - loss: 0.6931 - accuracy: 0.5000\n",
            "Epoch 39: val_accuracy did not improve from 0.50000\n",
            "1/1 [==============================] - 12s 12s/step - loss: 0.6931 - accuracy: 0.5000 - val_loss: 0.6931 - val_accuracy: 0.5000\n",
            "Epoch 40/100\n",
            "1/1 [==============================] - ETA: 0s - loss: 0.6931 - accuracy: 0.5000\n",
            "Epoch 40: val_accuracy did not improve from 0.50000\n",
            "1/1 [==============================] - 12s 12s/step - loss: 0.6931 - accuracy: 0.5000 - val_loss: 0.6931 - val_accuracy: 0.5000\n",
            "Epoch 41/100\n",
            "1/1 [==============================] - ETA: 0s - loss: 0.6931 - accuracy: 0.5000\n",
            "Epoch 41: val_accuracy did not improve from 0.50000\n",
            "1/1 [==============================] - 12s 12s/step - loss: 0.6931 - accuracy: 0.5000 - val_loss: 0.6931 - val_accuracy: 0.5000\n",
            "Epoch 42/100\n",
            "1/1 [==============================] - ETA: 0s - loss: 0.6931 - accuracy: 0.5000\n",
            "Epoch 42: val_accuracy did not improve from 0.50000\n",
            "1/1 [==============================] - 12s 12s/step - loss: 0.6931 - accuracy: 0.5000 - val_loss: 0.6931 - val_accuracy: 0.5000\n",
            "Epoch 43/100\n",
            "1/1 [==============================] - ETA: 0s - loss: 0.6931 - accuracy: 0.5000\n",
            "Epoch 43: val_accuracy did not improve from 0.50000\n",
            "1/1 [==============================] - 12s 12s/step - loss: 0.6931 - accuracy: 0.5000 - val_loss: 0.6931 - val_accuracy: 0.5000\n",
            "Epoch 44/100\n",
            "1/1 [==============================] - ETA: 0s - loss: 0.6931 - accuracy: 0.5000\n",
            "Epoch 44: val_accuracy did not improve from 0.50000\n",
            "1/1 [==============================] - 12s 12s/step - loss: 0.6931 - accuracy: 0.5000 - val_loss: 0.6931 - val_accuracy: 0.5000\n",
            "Epoch 45/100\n",
            "1/1 [==============================] - ETA: 0s - loss: 0.6931 - accuracy: 0.5000\n",
            "Epoch 45: val_accuracy did not improve from 0.50000\n",
            "1/1 [==============================] - 11s 11s/step - loss: 0.6931 - accuracy: 0.5000 - val_loss: 0.6931 - val_accuracy: 0.5000\n",
            "Epoch 46/100\n",
            "1/1 [==============================] - ETA: 0s - loss: 0.6931 - accuracy: 0.5000\n",
            "Epoch 46: val_accuracy did not improve from 0.50000\n",
            "1/1 [==============================] - 18s 18s/step - loss: 0.6931 - accuracy: 0.5000 - val_loss: 0.6931 - val_accuracy: 0.5000\n",
            "Epoch 47/100\n",
            "1/1 [==============================] - ETA: 0s - loss: 0.6931 - accuracy: 0.5000\n",
            "Epoch 47: val_accuracy did not improve from 0.50000\n",
            "1/1 [==============================] - 12s 12s/step - loss: 0.6931 - accuracy: 0.5000 - val_loss: 0.6931 - val_accuracy: 0.5000\n",
            "Epoch 48/100\n",
            "1/1 [==============================] - ETA: 0s - loss: 0.6931 - accuracy: 0.5000\n",
            "Epoch 48: val_accuracy did not improve from 0.50000\n",
            "1/1 [==============================] - 13s 13s/step - loss: 0.6931 - accuracy: 0.5000 - val_loss: 0.6931 - val_accuracy: 0.5000\n",
            "Epoch 49/100\n",
            "1/1 [==============================] - ETA: 0s - loss: 0.6931 - accuracy: 0.5000\n",
            "Epoch 49: val_accuracy did not improve from 0.50000\n",
            "1/1 [==============================] - 14s 14s/step - loss: 0.6931 - accuracy: 0.5000 - val_loss: 0.6931 - val_accuracy: 0.5000\n",
            "Epoch 50/100\n",
            "1/1 [==============================] - ETA: 0s - loss: 0.6931 - accuracy: 0.5000\n",
            "Epoch 50: val_accuracy did not improve from 0.50000\n",
            "1/1 [==============================] - 12s 12s/step - loss: 0.6931 - accuracy: 0.5000 - val_loss: 0.6931 - val_accuracy: 0.5000\n",
            "Epoch 51/100\n",
            "1/1 [==============================] - ETA: 0s - loss: 0.6931 - accuracy: 0.5000\n",
            "Epoch 51: val_accuracy did not improve from 0.50000\n",
            "1/1 [==============================] - 12s 12s/step - loss: 0.6931 - accuracy: 0.5000 - val_loss: 0.6931 - val_accuracy: 0.5000\n",
            "Epoch 52/100\n",
            "1/1 [==============================] - ETA: 0s - loss: 0.6931 - accuracy: 0.5000\n",
            "Epoch 52: val_accuracy did not improve from 0.50000\n",
            "1/1 [==============================] - 13s 13s/step - loss: 0.6931 - accuracy: 0.5000 - val_loss: 0.6931 - val_accuracy: 0.5000\n",
            "Epoch 53/100\n",
            "1/1 [==============================] - ETA: 0s - loss: 0.6931 - accuracy: 0.5000\n",
            "Epoch 53: val_accuracy did not improve from 0.50000\n",
            "1/1 [==============================] - 12s 12s/step - loss: 0.6931 - accuracy: 0.5000 - val_loss: 0.6931 - val_accuracy: 0.5000\n",
            "Epoch 54/100\n",
            "1/1 [==============================] - ETA: 0s - loss: 0.6931 - accuracy: 0.5000\n",
            "Epoch 54: val_accuracy did not improve from 0.50000\n",
            "1/1 [==============================] - 12s 12s/step - loss: 0.6931 - accuracy: 0.5000 - val_loss: 0.6931 - val_accuracy: 0.5000\n",
            "Epoch 55/100\n",
            "1/1 [==============================] - ETA: 0s - loss: 0.6931 - accuracy: 0.5000\n",
            "Epoch 55: val_accuracy did not improve from 0.50000\n",
            "1/1 [==============================] - 13s 13s/step - loss: 0.6931 - accuracy: 0.5000 - val_loss: 0.6931 - val_accuracy: 0.5000\n",
            "Epoch 56/100\n",
            "1/1 [==============================] - ETA: 0s - loss: 0.6931 - accuracy: 0.5000\n",
            "Epoch 56: val_accuracy did not improve from 0.50000\n",
            "1/1 [==============================] - 12s 12s/step - loss: 0.6931 - accuracy: 0.5000 - val_loss: 0.6931 - val_accuracy: 0.5000\n",
            "Epoch 57/100\n",
            "1/1 [==============================] - ETA: 0s - loss: 0.6931 - accuracy: 0.5000\n",
            "Epoch 57: val_accuracy did not improve from 0.50000\n",
            "1/1 [==============================] - 12s 12s/step - loss: 0.6931 - accuracy: 0.5000 - val_loss: 0.6931 - val_accuracy: 0.5000\n",
            "Epoch 58/100\n",
            "1/1 [==============================] - ETA: 0s - loss: 0.6931 - accuracy: 0.5000\n",
            "Epoch 58: val_accuracy did not improve from 0.50000\n",
            "1/1 [==============================] - 12s 12s/step - loss: 0.6931 - accuracy: 0.5000 - val_loss: 0.6931 - val_accuracy: 0.5000\n",
            "Epoch 59/100\n",
            "1/1 [==============================] - ETA: 0s - loss: 0.6931 - accuracy: 0.5000\n",
            "Epoch 59: val_accuracy did not improve from 0.50000\n",
            "1/1 [==============================] - 12s 12s/step - loss: 0.6931 - accuracy: 0.5000 - val_loss: 0.6931 - val_accuracy: 0.5000\n",
            "Epoch 60/100\n",
            "1/1 [==============================] - ETA: 0s - loss: 0.6931 - accuracy: 0.5000\n",
            "Epoch 60: val_accuracy did not improve from 0.50000\n",
            "1/1 [==============================] - 12s 12s/step - loss: 0.6931 - accuracy: 0.5000 - val_loss: 0.6931 - val_accuracy: 0.5000\n",
            "Epoch 61/100\n",
            "1/1 [==============================] - ETA: 0s - loss: 0.6931 - accuracy: 0.5000\n",
            "Epoch 61: val_accuracy did not improve from 0.50000\n",
            "1/1 [==============================] - 13s 13s/step - loss: 0.6931 - accuracy: 0.5000 - val_loss: 0.6931 - val_accuracy: 0.5000\n",
            "Epoch 62/100\n",
            "1/1 [==============================] - ETA: 0s - loss: 0.6931 - accuracy: 0.5000\n",
            "Epoch 62: val_accuracy did not improve from 0.50000\n",
            "1/1 [==============================] - 13s 13s/step - loss: 0.6931 - accuracy: 0.5000 - val_loss: 0.6931 - val_accuracy: 0.5000\n",
            "Epoch 63/100\n",
            "1/1 [==============================] - ETA: 0s - loss: 0.6931 - accuracy: 0.5000\n",
            "Epoch 63: val_accuracy did not improve from 0.50000\n",
            "1/1 [==============================] - 14s 14s/step - loss: 0.6931 - accuracy: 0.5000 - val_loss: 0.6931 - val_accuracy: 0.5000\n",
            "Epoch 64/100\n",
            "1/1 [==============================] - ETA: 0s - loss: 0.6931 - accuracy: 0.5000\n",
            "Epoch 64: val_accuracy did not improve from 0.50000\n",
            "1/1 [==============================] - 12s 12s/step - loss: 0.6931 - accuracy: 0.5000 - val_loss: 0.6931 - val_accuracy: 0.5000\n",
            "Epoch 65/100\n",
            "1/1 [==============================] - ETA: 0s - loss: 0.6931 - accuracy: 0.5000\n",
            "Epoch 65: val_accuracy did not improve from 0.50000\n",
            "1/1 [==============================] - 12s 12s/step - loss: 0.6931 - accuracy: 0.5000 - val_loss: 0.6931 - val_accuracy: 0.5000\n",
            "Epoch 66/100\n",
            "1/1 [==============================] - ETA: 0s - loss: 0.6931 - accuracy: 0.5000\n",
            "Epoch 66: val_accuracy did not improve from 0.50000\n",
            "1/1 [==============================] - 13s 13s/step - loss: 0.6931 - accuracy: 0.5000 - val_loss: 0.6931 - val_accuracy: 0.5000\n",
            "Epoch 67/100\n",
            "1/1 [==============================] - ETA: 0s - loss: 0.6931 - accuracy: 0.5000\n",
            "Epoch 67: val_accuracy did not improve from 0.50000\n",
            "1/1 [==============================] - 13s 13s/step - loss: 0.6931 - accuracy: 0.5000 - val_loss: 0.6931 - val_accuracy: 0.5000\n",
            "Epoch 68/100\n",
            "1/1 [==============================] - ETA: 0s - loss: 0.6931 - accuracy: 0.5000\n",
            "Epoch 68: val_accuracy did not improve from 0.50000\n",
            "1/1 [==============================] - 13s 13s/step - loss: 0.6931 - accuracy: 0.5000 - val_loss: 0.6931 - val_accuracy: 0.5000\n",
            "Epoch 69/100\n",
            "1/1 [==============================] - ETA: 0s - loss: 0.6931 - accuracy: 0.5000\n",
            "Epoch 69: val_accuracy did not improve from 0.50000\n",
            "1/1 [==============================] - 12s 12s/step - loss: 0.6931 - accuracy: 0.5000 - val_loss: 0.6931 - val_accuracy: 0.5000\n",
            "Epoch 70/100\n",
            "1/1 [==============================] - ETA: 0s - loss: 0.6931 - accuracy: 0.5000\n",
            "Epoch 70: val_accuracy did not improve from 0.50000\n",
            "1/1 [==============================] - 12s 12s/step - loss: 0.6931 - accuracy: 0.5000 - val_loss: 0.6931 - val_accuracy: 0.5000\n",
            "Epoch 71/100\n",
            "1/1 [==============================] - ETA: 0s - loss: 0.6931 - accuracy: 0.5000\n",
            "Epoch 71: val_accuracy did not improve from 0.50000\n",
            "1/1 [==============================] - 12s 12s/step - loss: 0.6931 - accuracy: 0.5000 - val_loss: 0.6931 - val_accuracy: 0.5000\n",
            "Epoch 72/100\n",
            "1/1 [==============================] - ETA: 0s - loss: 0.6931 - accuracy: 0.5000\n",
            "Epoch 72: val_accuracy did not improve from 0.50000\n",
            "1/1 [==============================] - 13s 13s/step - loss: 0.6931 - accuracy: 0.5000 - val_loss: 0.6931 - val_accuracy: 0.5000\n",
            "Epoch 73/100\n",
            "1/1 [==============================] - ETA: 0s - loss: 0.6931 - accuracy: 0.5000\n",
            "Epoch 73: val_accuracy did not improve from 0.50000\n",
            "1/1 [==============================] - 12s 12s/step - loss: 0.6931 - accuracy: 0.5000 - val_loss: 0.6931 - val_accuracy: 0.5000\n",
            "Epoch 74/100\n",
            "1/1 [==============================] - ETA: 0s - loss: 0.6931 - accuracy: 0.5000\n",
            "Epoch 74: val_accuracy did not improve from 0.50000\n",
            "1/1 [==============================] - 12s 12s/step - loss: 0.6931 - accuracy: 0.5000 - val_loss: 0.6931 - val_accuracy: 0.5000\n",
            "Epoch 75/100\n",
            "1/1 [==============================] - ETA: 0s - loss: 0.6931 - accuracy: 0.5000\n",
            "Epoch 75: val_accuracy did not improve from 0.50000\n",
            "1/1 [==============================] - 12s 12s/step - loss: 0.6931 - accuracy: 0.5000 - val_loss: 0.6931 - val_accuracy: 0.5000\n",
            "Epoch 76/100\n",
            "1/1 [==============================] - ETA: 0s - loss: 0.6931 - accuracy: 0.5000\n",
            "Epoch 76: val_accuracy did not improve from 0.50000\n",
            "1/1 [==============================] - 13s 13s/step - loss: 0.6931 - accuracy: 0.5000 - val_loss: 0.6931 - val_accuracy: 0.5000\n",
            "Epoch 77/100\n",
            "1/1 [==============================] - ETA: 0s - loss: 0.6931 - accuracy: 0.5000\n",
            "Epoch 77: val_accuracy did not improve from 0.50000\n",
            "1/1 [==============================] - 12s 12s/step - loss: 0.6931 - accuracy: 0.5000 - val_loss: 0.6931 - val_accuracy: 0.5000\n",
            "Epoch 78/100\n",
            "1/1 [==============================] - ETA: 0s - loss: 0.6931 - accuracy: 0.5000\n",
            "Epoch 78: val_accuracy did not improve from 0.50000\n",
            "1/1 [==============================] - 12s 12s/step - loss: 0.6931 - accuracy: 0.5000 - val_loss: 0.6931 - val_accuracy: 0.5000\n",
            "Epoch 79/100\n",
            "1/1 [==============================] - ETA: 0s - loss: 0.6931 - accuracy: 0.5000\n",
            "Epoch 79: val_accuracy did not improve from 0.50000\n",
            "1/1 [==============================] - 13s 13s/step - loss: 0.6931 - accuracy: 0.5000 - val_loss: 0.6931 - val_accuracy: 0.5000\n",
            "Epoch 80/100\n",
            "1/1 [==============================] - ETA: 0s - loss: 0.6931 - accuracy: 0.5000\n",
            "Epoch 80: val_accuracy did not improve from 0.50000\n",
            "1/1 [==============================] - 14s 14s/step - loss: 0.6931 - accuracy: 0.5000 - val_loss: 0.6931 - val_accuracy: 0.5000\n",
            "Epoch 81/100\n",
            "1/1 [==============================] - ETA: 0s - loss: 0.6931 - accuracy: 0.5000\n",
            "Epoch 81: val_accuracy did not improve from 0.50000\n",
            "1/1 [==============================] - 19s 19s/step - loss: 0.6931 - accuracy: 0.5000 - val_loss: 0.6931 - val_accuracy: 0.5000\n",
            "Epoch 82/100\n",
            "1/1 [==============================] - ETA: 0s - loss: 0.6931 - accuracy: 0.5000\n",
            "Epoch 82: val_accuracy did not improve from 0.50000\n",
            "1/1 [==============================] - 13s 13s/step - loss: 0.6931 - accuracy: 0.5000 - val_loss: 0.6931 - val_accuracy: 0.5000\n",
            "Epoch 83/100\n",
            "1/1 [==============================] - ETA: 0s - loss: 0.6931 - accuracy: 0.5000\n",
            "Epoch 83: val_accuracy did not improve from 0.50000\n",
            "1/1 [==============================] - 12s 12s/step - loss: 0.6931 - accuracy: 0.5000 - val_loss: 0.6931 - val_accuracy: 0.5000\n",
            "Epoch 84/100\n",
            "1/1 [==============================] - ETA: 0s - loss: 0.6931 - accuracy: 0.5000\n",
            "Epoch 84: val_accuracy did not improve from 0.50000\n",
            "1/1 [==============================] - 12s 12s/step - loss: 0.6931 - accuracy: 0.5000 - val_loss: 0.6931 - val_accuracy: 0.5000\n",
            "Epoch 85/100\n",
            "1/1 [==============================] - ETA: 0s - loss: 0.6931 - accuracy: 0.5000\n",
            "Epoch 85: val_accuracy did not improve from 0.50000\n",
            "1/1 [==============================] - 12s 12s/step - loss: 0.6931 - accuracy: 0.5000 - val_loss: 0.6931 - val_accuracy: 0.5000\n",
            "Epoch 86/100\n",
            "1/1 [==============================] - ETA: 0s - loss: 0.6931 - accuracy: 0.5000\n",
            "Epoch 86: val_accuracy did not improve from 0.50000\n",
            "1/1 [==============================] - 12s 12s/step - loss: 0.6931 - accuracy: 0.5000 - val_loss: 0.6931 - val_accuracy: 0.5000\n",
            "Epoch 87/100\n",
            "1/1 [==============================] - ETA: 0s - loss: 0.6931 - accuracy: 0.5000\n",
            "Epoch 87: val_accuracy did not improve from 0.50000\n",
            "1/1 [==============================] - 13s 13s/step - loss: 0.6931 - accuracy: 0.5000 - val_loss: 0.6931 - val_accuracy: 0.5000\n",
            "Epoch 88/100\n",
            "1/1 [==============================] - ETA: 0s - loss: 0.6931 - accuracy: 0.5000\n",
            "Epoch 88: val_accuracy did not improve from 0.50000\n",
            "1/1 [==============================] - 12s 12s/step - loss: 0.6931 - accuracy: 0.5000 - val_loss: 0.6931 - val_accuracy: 0.5000\n",
            "Epoch 89/100\n",
            "1/1 [==============================] - ETA: 0s - loss: 0.6931 - accuracy: 0.5000\n",
            "Epoch 89: val_accuracy did not improve from 0.50000\n",
            "1/1 [==============================] - 12s 12s/step - loss: 0.6931 - accuracy: 0.5000 - val_loss: 0.6931 - val_accuracy: 0.5000\n",
            "Epoch 90/100\n",
            "1/1 [==============================] - ETA: 0s - loss: 0.6931 - accuracy: 0.5000\n",
            "Epoch 90: val_accuracy did not improve from 0.50000\n",
            "1/1 [==============================] - 12s 12s/step - loss: 0.6931 - accuracy: 0.5000 - val_loss: 0.6931 - val_accuracy: 0.5000\n",
            "Epoch 91/100\n",
            "1/1 [==============================] - ETA: 0s - loss: 0.6931 - accuracy: 0.5000\n",
            "Epoch 91: val_accuracy did not improve from 0.50000\n",
            "1/1 [==============================] - 12s 12s/step - loss: 0.6931 - accuracy: 0.5000 - val_loss: 0.6931 - val_accuracy: 0.5000\n",
            "Epoch 92/100\n",
            "1/1 [==============================] - ETA: 0s - loss: 0.6931 - accuracy: 0.5000\n",
            "Epoch 92: val_accuracy did not improve from 0.50000\n",
            "1/1 [==============================] - 13s 13s/step - loss: 0.6931 - accuracy: 0.5000 - val_loss: 0.6931 - val_accuracy: 0.5000\n",
            "Epoch 93/100\n",
            "1/1 [==============================] - ETA: 0s - loss: 0.6931 - accuracy: 0.5000\n",
            "Epoch 93: val_accuracy did not improve from 0.50000\n",
            "1/1 [==============================] - 13s 13s/step - loss: 0.6931 - accuracy: 0.5000 - val_loss: 0.6931 - val_accuracy: 0.5000\n",
            "Epoch 94/100\n",
            "1/1 [==============================] - ETA: 0s - loss: 0.6931 - accuracy: 0.5000\n",
            "Epoch 94: val_accuracy did not improve from 0.50000\n",
            "1/1 [==============================] - 11s 11s/step - loss: 0.6931 - accuracy: 0.5000 - val_loss: 0.6931 - val_accuracy: 0.5000\n",
            "Epoch 95/100\n",
            "1/1 [==============================] - ETA: 0s - loss: 0.6931 - accuracy: 0.5000\n",
            "Epoch 95: val_accuracy did not improve from 0.50000\n",
            "1/1 [==============================] - 12s 12s/step - loss: 0.6931 - accuracy: 0.5000 - val_loss: 0.6931 - val_accuracy: 0.5000\n",
            "Epoch 96/100\n",
            "1/1 [==============================] - ETA: 0s - loss: 0.6931 - accuracy: 0.5000\n",
            "Epoch 96: val_accuracy did not improve from 0.50000\n",
            "1/1 [==============================] - 14s 14s/step - loss: 0.6931 - accuracy: 0.5000 - val_loss: 0.6931 - val_accuracy: 0.5000\n",
            "Epoch 97/100\n",
            "1/1 [==============================] - ETA: 0s - loss: 0.6931 - accuracy: 0.5000\n",
            "Epoch 97: val_accuracy did not improve from 0.50000\n",
            "1/1 [==============================] - 12s 12s/step - loss: 0.6931 - accuracy: 0.5000 - val_loss: 0.6931 - val_accuracy: 0.5000\n",
            "Epoch 98/100\n",
            "1/1 [==============================] - ETA: 0s - loss: 0.6931 - accuracy: 0.5000\n",
            "Epoch 98: val_accuracy did not improve from 0.50000\n",
            "1/1 [==============================] - 12s 12s/step - loss: 0.6931 - accuracy: 0.5000 - val_loss: 0.6931 - val_accuracy: 0.5000\n",
            "Epoch 99/100\n",
            "1/1 [==============================] - ETA: 0s - loss: 0.6931 - accuracy: 0.5000\n",
            "Epoch 99: val_accuracy did not improve from 0.50000\n",
            "1/1 [==============================] - 12s 12s/step - loss: 0.6931 - accuracy: 0.5000 - val_loss: 0.6931 - val_accuracy: 0.5000\n",
            "Epoch 100/100\n",
            "1/1 [==============================] - ETA: 0s - loss: 0.6931 - accuracy: 0.5000\n",
            "Epoch 100: val_accuracy did not improve from 0.50000\n",
            "1/1 [==============================] - 13s 13s/step - loss: 0.6931 - accuracy: 0.5000 - val_loss: 0.6931 - val_accuracy: 0.5000\n"
          ]
        }
      ],
      "source": [
        "start = datetime.datetime.now()\n",
        "history = model.fit_generator(train_generator,\n",
        "                              epochs=100,\n",
        "                              verbose=1,\n",
        "                              validation_data=validation_generator,\n",
        "                              callbacks = [best_model]\n",
        "                              )\n"
      ]
    },
    {
      "cell_type": "code",
      "execution_count": null,
      "metadata": {
        "colab": {
          "base_uri": "https://localhost:8080/"
        },
        "id": "Ksf5ZQUWRTNm",
        "outputId": "eb1cf53c-c1b7-4279-e5f4-c814e29984c2"
      },
      "outputs": [
        {
          "output_type": "stream",
          "name": "stdout",
          "text": [
            "1/1 [==============================] - 2s 2s/step - loss: 0.6931 - accuracy: 0.5000\n",
            "[INFO] accuracy: 50.00%\n",
            "[INFO] Loss: 0.69%\n",
            "Time:  0:27:47.938755\n"
          ]
        }
      ],
      "source": [
        "(val_loss, val_accuracy) = model.evaluate(\n",
        "    validation_generator,\n",
        "    batch_size=batch_size,\n",
        "    verbose=1)\n",
        "\n",
        "print('[INFO] accuracy: {:.2f}%'.format(val_accuracy * 100))\n",
        "print('[INFO] Loss: {:.2f}%'.format(val_loss))\n",
        "end = datetime.datetime.now()\n",
        "elapsed = end-start\n",
        "print('Time: ', elapsed)"
      ]
    },
    {
      "cell_type": "code",
      "execution_count": null,
      "metadata": {
        "colab": {
          "base_uri": "https://localhost:8080/"
        },
        "id": "6jdqz4S1RVZV",
        "outputId": "504befd5-ba20-4fba-8c40-6d0b6e1c851d"
      },
      "outputs": [
        {
          "output_type": "stream",
          "name": "stdout",
          "text": [
            "1/1 [==============================] - 8s 8s/step - loss: 0.6931 - accuracy: 0.5000\n",
            "[INFO] accuracy: 50.00%\n",
            "[INFO] Loss: 0.69%\n",
            "Time:  0:28:05.319422\n"
          ]
        }
      ],
      "source": [
        "(train_loss, train_accuracy) = model.evaluate(\n",
        "    train_generator,\n",
        "    batch_size=batch_size,\n",
        "    verbose=1)\n",
        "\n",
        "print('[INFO] accuracy: {:.2f}%'.format(train_accuracy * 100))\n",
        "print('[INFO] Loss: {:.2f}%'.format(train_loss))\n",
        "end = datetime.datetime.now()\n",
        "elapsed = end-start\n",
        "print('Time: ', elapsed)"
      ]
    },
    {
      "cell_type": "code",
      "execution_count": null,
      "metadata": {
        "colab": {
          "base_uri": "https://localhost:8080/",
          "height": 458
        },
        "id": "gebpf3wHRZR3",
        "outputId": "0afb5f45-7d43-4759-8024-20af55a0d9f9"
      },
      "outputs": [
        {
          "output_type": "display_data",
          "data": {
            "text/plain": [
              "<Figure size 1008x504 with 1 Axes>"
            ],
            "image/png": "[encoded data removed]"
          },
          "metadata": {
            "needs_background": "light"
          }
        }
      ],
      "source": [
        "acc=history.history['accuracy']\n",
        "val_acc=history.history['val_accuracy']\n",
        "loss=history.history['loss']\n",
        "val_loss=history.history['val_loss']\n",
        "\n",
        "epochs=range(len(acc))\n",
        "\n",
        "fig = plt.figure(figsize=(14,7))\n",
        "plt.plot(epochs, acc, 'r', label=\"Training Accuracy\")\n",
        "plt.plot(epochs, val_acc, 'b', label=\"Validation Accuracy\")\n",
        "plt.xlabel('Epoch')\n",
        "plt.ylabel('Accuracy')\n",
        "plt.title('Training and validation accuracy')\n",
        "plt.legend(loc='lower right')\n",
        "plt.show()"
      ]
    },
    {
      "cell_type": "code",
      "execution_count": null,
      "metadata": {
        "id": "z-2I0nWrRcTA",
        "colab": {
          "base_uri": "https://localhost:8080/",
          "height": 458
        },
        "outputId": "df2f56c4-db07-4e09-d157-b5c785860620"
      },
      "outputs": [
        {
          "output_type": "display_data",
          "data": {
            "text/plain": [
              "<Figure size 1008x504 with 1 Axes>"
            ],
            "image/png": "[encoded data removed]"
          },
          "metadata": {
            "needs_background": "light"
          }
        }
      ],
      "source": [
        "\n",
        "fig2 = plt.figure(figsize=(14,7))\n",
        "plt.plot(epochs, loss, 'r', label=\"Training Loss\")\n",
        "plt.plot(epochs, val_loss, 'b', label=\"Validation Loss\")\n",
        "plt.legend(loc='upper right')\n",
        "plt.xlabel('Epoch')\n",
        "plt.ylabel('Loss')\n",
        "plt.title('Training and validation loss')\n",
        "model = load_model(best_model_file)"
      ]
    },
    {
      "cell_type": "code",
      "execution_count": null,
      "metadata": {
        "colab": {
          "base_uri": "https://localhost:8080/",
          "height": 554
        },
        "id": "76k2HXStRfKO",
        "outputId": "4c17910b-7215-4853-d994-b4cf1edcbee1"
      },
      "outputs": [
        {
          "output_type": "stream",
          "name": "stdout",
          "text": [
            "========= CONFUSION MATRIX =========\n",
            "[[5 0]\n",
            " [5 0]]\n",
            "============== RESULT ==============\n",
            "              precision    recall  f1-score   support\n",
            "\n",
            "           0       0.50      1.00      0.67         5\n",
            "           1       0.00      0.00      0.00         5\n",
            "\n",
            "    accuracy                           0.50        10\n",
            "   macro avg       0.25      0.50      0.33        10\n",
            "weighted avg       0.25      0.50      0.33        10\n",
            "\n",
            "Confusion matrix, without normalization\n"
          ]
        },
        {
          "output_type": "display_data",
          "data": {
            "text/plain": [
              "<Figure size 432x288 with 2 Axes>"
            ],
            "image/png": "[encoded data removed]"
          },
          "metadata": {
            "needs_background": "light"
          }
        }
      ],
      "source": [
        "\n",
        "from sklearn.metrics import confusion_matrix, classification_report\n",
        "\n",
        "predict = model.predict_generator(validation_generator)\n",
        "pred = np.argmax(predict, axis=1)\n",
        "cm = confusion_matrix(validation_generator.classes,pred)\n",
        "\n",
        "def plot_confusion_matrix(cm, classes,\n",
        "   normalize=False,\n",
        "   title='Confusion matrix',\n",
        "   cmap=plt.cm.Blues) :\n",
        "\n",
        "      if normalize:\n",
        "          cm = cm.astype('float')/cm.sum(axis=1)[:, np.newaxis]\n",
        "          print('Normalized confusion matrix')\n",
        "\n",
        "      else: print('Confusion matrix, without normalization')\n",
        "\n",
        "      plt.imshow(cm, interpolation='nearest', cmap=cmap)\n",
        "      plt.title(title)\n",
        "      plt.colorbar()\n",
        "      tick_marks = np.arange(len(classes))\n",
        "      plt.xticks(tick_marks, classes, rotation=45)\n",
        "      plt.yticks(tick_marks, classes)\n",
        "\n",
        "      fmt = '.2f' if normalize else 'd'\n",
        "      thresh = cm.max() / 2.\n",
        "      for i, j in itertools.product(range(cm.shape[0]), range(cm.shape[1])):\n",
        "        plt.text(j, i, format(cm[i, j], fmt), horizontalalignment='center', color='white' if cm[i, j] > thresh else 'black')\n",
        "      plt.tight_layout()\n",
        "      plt.ylabel('True label')\n",
        "      plt.xlabel('Predicted label')\n",
        "\n",
        "print(\"========= CONFUSION MATRIX =========\")\n",
        "print(cm)\n",
        "\n",
        "print(\"============== RESULT ==============\")\n",
        "print(classification_report(validation_generator.classes,pred))\n",
        "\n",
        "\n",
        "plot_confusion_matrix(cm, ['cumulonimbus', 'non_cumulonimbus'], normalize = False)"
      ]
    },
    {
      "cell_type": "code",
      "execution_count": null,
      "metadata": {
        "id": "lqBF89IBRkzl",
        "colab": {
          "base_uri": "https://localhost:8080/",
          "height": 237
        },
        "outputId": "0c48de7f-cd3f-4802-b874-5b594afe9c4a"
      },
      "outputs": [
        {
          "output_type": "error",
          "ename": "AttributeError",
          "evalue": "ignored",
          "traceback": [
            "\u001b[0;31m---------------------------------------------------------------------------\u001b[0m",
            "\u001b[0;31mAttributeError\u001b[0m                            Traceback (most recent call last)",
            "\u001b[0;32m<ipython-input-28-50b7b45beaa1>\u001b[0m in \u001b[0;36m<module>\u001b[0;34m\u001b[0m\n\u001b[1;32m      1\u001b[0m \u001b[0mget_ipython\u001b[0m\u001b[0;34m(\u001b[0m\u001b[0;34m)\u001b[0m\u001b[0;34m.\u001b[0m\u001b[0mrun_line_magic\u001b[0m\u001b[0;34m(\u001b[0m\u001b[0;34m'matplotlib'\u001b[0m\u001b[0;34m,\u001b[0m \u001b[0;34m'inline'\u001b[0m\u001b[0;34m)\u001b[0m\u001b[0;34m\u001b[0m\u001b[0;34m\u001b[0m\u001b[0m\n\u001b[0;32m----> 2\u001b[0;31m \u001b[0muploaded\u001b[0m \u001b[0;34m=\u001b[0m \u001b[0mfiles\u001b[0m\u001b[0;34m.\u001b[0m\u001b[0mupload\u001b[0m\u001b[0;34m(\u001b[0m\u001b[0;34m)\u001b[0m\u001b[0;34m\u001b[0m\u001b[0;34m\u001b[0m\u001b[0m\n\u001b[0m\u001b[1;32m      3\u001b[0m \u001b[0;32mfor\u001b[0m \u001b[0mfn\u001b[0m \u001b[0;32min\u001b[0m \u001b[0muploaded\u001b[0m\u001b[0;34m.\u001b[0m\u001b[0mkeys\u001b[0m\u001b[0;34m(\u001b[0m\u001b[0;34m)\u001b[0m\u001b[0;34m:\u001b[0m\u001b[0;34m\u001b[0m\u001b[0;34m\u001b[0m\u001b[0m\n\u001b[1;32m      4\u001b[0m        \u001b[0mpath\u001b[0m \u001b[0;34m=\u001b[0m \u001b[0mfn\u001b[0m\u001b[0;34m\u001b[0m\u001b[0;34m\u001b[0m\u001b[0m\n\u001b[1;32m      5\u001b[0m        \u001b[0mimg\u001b[0m \u001b[0;34m=\u001b[0m \u001b[0mimage\u001b[0m\u001b[0;34m.\u001b[0m\u001b[0mload_img\u001b[0m\u001b[0;34m(\u001b[0m\u001b[0mpath\u001b[0m\u001b[0;34m,\u001b[0m \u001b[0mtarget_size\u001b[0m\u001b[0;34m=\u001b[0m\u001b[0;34m(\u001b[0m\u001b[0;36m150\u001b[0m\u001b[0;34m,\u001b[0m\u001b[0;36m150\u001b[0m\u001b[0;34m)\u001b[0m\u001b[0;34m)\u001b[0m\u001b[0;34m\u001b[0m\u001b[0;34m\u001b[0m\u001b[0m\n",
            "\u001b[0;31mAttributeError\u001b[0m: 'list' object has no attribute 'upload'"
          ]
        }
      ],
      "source": [
        "\n",
        "%matplotlib inline\n",
        "uploaded = files.upload()\n",
        "for fn in uploaded.keys():\n",
        "       path = fn\n",
        "       img = image.load_img(path, target_size=(150,150))\n",
        "       imgplot = plt.imshow(img)\n",
        "       x = image.img_to_array(img)\n",
        "       x = np.expand_dims(x, axis=0)\n",
        "       x = x/255\n",
        "       images = np.vstack([x])\n",
        "       classes = model.predict(images, batch_size=32)\n",
        "\n",
        "       print(fn)\n",
        "       print(classes)\n",
        "       if np.argmax(classes[0]) == 0:\n",
        "         print('Cumulonimbus')\n",
        "\n",
        "       else:\n",
        "          print('Non Cumulunimbus')\n",
        "\n"
      ]
    },
    {
      "cell_type": "code",
      "source": [],
      "metadata": {
        "id": "kO5sLG-Vda0H"
      },
      "execution_count": null,
      "outputs": []
    }
  ],
  "metadata": {
    "colab": {
      "provenance": []
    },
    "kernelspec": {
      "display_name": "Python 3",
      "name": "python3"
    },
    "language_info": {
      "name": "python"
    }
  },
  "nbformat": 4,
  "nbformat_minor": 0
}